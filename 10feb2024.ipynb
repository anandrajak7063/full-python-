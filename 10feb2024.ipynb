{
 "cells": [
  {
   "cell_type": "code",
   "execution_count": 66,
   "id": "3e843028",
   "metadata": {},
   "outputs": [
    {
     "name": "stdout",
     "output_type": "stream",
     "text": [
      "enter your number5\n",
      "*****\n",
      "*****\n",
      "*****\n",
      "*****\n",
      "*****\n"
     ]
    }
   ],
   "source": [
    "x=int(input(\"enter your number\"))\n",
    "for i in range(x) :\n",
    "    print(\"*\"*x)\n",
    "    \n",
    "              "
   ]
  },
  {
   "cell_type": "code",
   "execution_count": 63,
   "id": "29f83f32",
   "metadata": {},
   "outputs": [
    {
     "data": {
      "text/plain": [
       "'****'"
      ]
     },
     "execution_count": 63,
     "metadata": {},
     "output_type": "execute_result"
    }
   ],
   "source": [
    "\"*\"*4\n"
   ]
  },
  {
   "cell_type": "code",
   "execution_count": 78,
   "id": "8b1a20de",
   "metadata": {},
   "outputs": [
    {
     "name": "stdout",
     "output_type": "stream",
     "text": [
      "* * * * * \n",
      "\n",
      "* * * * \n",
      "\n",
      "* * * \n",
      "\n",
      "* * \n",
      "\n",
      "* \n",
      "\n"
     ]
    }
   ],
   "source": [
    "for i in range(5,0,-1) :\n",
    "    for j in range(i):\n",
    "        print(\"*\",end=\" \")\n",
    "    print(\"\\n\")"
   ]
  },
  {
   "cell_type": "code",
   "execution_count": 102,
   "id": "e9b1efc4",
   "metadata": {},
   "outputs": [
    {
     "name": "stdout",
     "output_type": "stream",
     "text": [
      "enter your start number8\n",
      "input your  end no8\n",
      "input your step no-2\n"
     ]
    }
   ],
   "source": [
    "x=int(input(\"enter your start number\"))\n",
    "y=int(input(\"input your  end no\"))\n",
    "z=int(input(\"input your step no\"))\n",
    "for i in range(x,y,z):\n",
    "    print(\"*\")\n",
    "    print(\"\\n\")"
   ]
  },
  {
   "cell_type": "code",
   "execution_count": 97,
   "id": "71f3bad4",
   "metadata": {},
   "outputs": [
    {
     "name": "stdout",
     "output_type": "stream",
     "text": [
      "enter your start number10\n",
      "input your  end no2\n",
      "input your step no-1\n",
      "*\n",
      "\n",
      "\n",
      "*\n",
      "\n",
      "\n",
      "*\n",
      "\n",
      "\n",
      "*\n",
      "\n",
      "\n",
      "*\n",
      "\n",
      "\n",
      "*\n",
      "\n",
      "\n",
      "*\n",
      "\n",
      "\n",
      "*\n",
      "\n",
      "\n"
     ]
    }
   ],
   "source": [
    "x=int(input(\"enter your start number\"))\n",
    "y=int(input(\"input your  end no\"))\n",
    "z=int(input(\"input your step no\"))\n",
    "for i in range(x,y,z):\n",
    "    print(\"*\"end\" \")\n",
    "    print(\"\\n\")\n"
   ]
  },
  {
   "cell_type": "code",
   "execution_count": 118,
   "id": "e5c12f7e",
   "metadata": {},
   "outputs": [
    {
     "ename": "SyntaxError",
     "evalue": "invalid syntax (2146409224.py, line 3)",
     "output_type": "error",
     "traceback": [
      "\u001b[1;36m  Cell \u001b[1;32mIn[118], line 3\u001b[1;36m\u001b[0m\n\u001b[1;33m    print(\"*\",end \" \")\u001b[0m\n\u001b[1;37m                  ^\u001b[0m\n\u001b[1;31mSyntaxError\u001b[0m\u001b[1;31m:\u001b[0m invalid syntax\n"
     ]
    }
   ],
   "source": [
    "x=int(input(\"enter your no\"))\n",
    "for i in range(x,0,-1):\n",
    "    print(\"*\",end \" \")\n",
    " "
   ]
  },
  {
   "cell_type": "code",
   "execution_count": 101,
   "id": "6f79743a",
   "metadata": {},
   "outputs": [
    {
     "name": "stdout",
     "output_type": "stream",
     "text": [
      "enter your number5\n",
      "*****\n",
      "*****\n",
      "*****\n",
      "*****\n",
      "*****\n"
     ]
    }
   ],
   "source": []
  },
  {
   "cell_type": "code",
   "execution_count": 111,
   "id": "fd127ad7",
   "metadata": {},
   "outputs": [],
   "source": [
    "\n",
    "for i in range(5,0,-1) :\n",
    "    for j in range(i):\n",
    "        print(\"*\",end=\" \")\n",
    "    print(\"\\n\")"
   ]
  },
  {
   "cell_type": "code",
   "execution_count": 112,
   "id": "b20daea5",
   "metadata": {},
   "outputs": [
    {
     "name": "stdout",
     "output_type": "stream",
     "text": [
      "* * * * * \n",
      "\n",
      "* * * * \n",
      "\n",
      "* * * \n",
      "\n",
      "* * \n",
      "\n",
      "* \n",
      "\n"
     ]
    }
   ],
   "source": [
    "left_triengle(5)"
   ]
  },
  {
   "cell_type": "code",
   "execution_count": 119,
   "id": "ac66d3ba",
   "metadata": {},
   "outputs": [
    {
     "name": "stdout",
     "output_type": "stream",
     "text": [
      "*1*1*1*1*1*1*1*1\n",
      "\n"
     ]
    }
   ],
   "source": [
    "for i in range(x,0,-10) :\n",
    "    for j in range(i):\n",
    "        print(\"*\",end=\" \")\n",
    "    print(\"\\n\")"
   ]
  },
  {
   "cell_type": "code",
   "execution_count": 121,
   "id": "eba2e43c",
   "metadata": {},
   "outputs": [
    {
     "name": "stdout",
     "output_type": "stream",
     "text": [
      "  *\n",
      " ***\n",
      "*****\n",
      " ***\n",
      "  *\n"
     ]
    }
   ],
   "source": [
    "def print_diamond(size):\n",
    "    \n",
    "    for i in range(1, size + 1):\n",
    "        print(\" \" * (size - i) + \"*\" * (2 * i - 1))\n",
    "    \n",
    "    for i in range(size - 1, 0, -1):\n",
    "        print(\" \" * (size - i) + \"*\" * (2 * i - 1))\n",
    "\n",
    "print_diamond(3)\n"
   ]
  },
  {
   "cell_type": "code",
   "execution_count": 136,
   "id": "a9479f2d",
   "metadata": {},
   "outputs": [
    {
     "ename": "SyntaxError",
     "evalue": "'(' was never closed (1223405444.py, line 3)",
     "output_type": "error",
     "traceback": [
      "\u001b[1;36m  Cell \u001b[1;32mIn[136], line 3\u001b[1;36m\u001b[0m\n\u001b[1;33m    print(\" \" * (size - 1)+ \"*\" * (2 * i - 1)\u001b[0m\n\u001b[1;37m         ^\u001b[0m\n\u001b[1;31mSyntaxError\u001b[0m\u001b[1;31m:\u001b[0m '(' was never closed\n"
     ]
    }
   ],
   "source": [
    "def print_diamond(size):\n",
    "    for i in range(1,size - 1):\n",
    "        print(\" \" * (size - 1)+ \"*\" * (2 * i - 1)\n",
    "    for i in range(size-1,0,-1):\n",
    "        print(\" \" * (size - 1 ) + \"*\" (2 * i -  1))\n",
    "print_diamond(8)"
   ]
  },
  {
   "cell_type": "code",
   "execution_count": 140,
   "id": "6ec64eb6",
   "metadata": {},
   "outputs": [],
   "source": [
    "def print_diamond(size):\n",
    "    for i in range(size-1,0,-1):\n",
    "        print(\" \" * (size - 1 ) + \"*\"* (2 * i -  1))\n"
   ]
  },
  {
   "cell_type": "code",
   "execution_count": 141,
   "id": "1ac21d1f",
   "metadata": {},
   "outputs": [
    {
     "name": "stdout",
     "output_type": "stream",
     "text": [
      "       *************\n",
      "       ***********\n",
      "       *********\n",
      "       *******\n",
      "       *****\n",
      "       ***\n",
      "       *\n"
     ]
    }
   ],
   "source": [
    "print_diamond(8)"
   ]
  },
  {
   "cell_type": "code",
   "execution_count": null,
   "id": "ef7b02da",
   "metadata": {},
   "outputs": [],
   "source": []
  },
  {
   "cell_type": "code",
   "execution_count": null,
   "id": "3cd27d22",
   "metadata": {},
   "outputs": [],
   "source": []
  },
  {
   "cell_type": "code",
   "execution_count": 125,
   "id": "028a6281",
   "metadata": {},
   "outputs": [
    {
     "ename": "SyntaxError",
     "evalue": "'(' was never closed (4233511366.py, line 3)",
     "output_type": "error",
     "traceback": [
      "\u001b[1;36m  Cell \u001b[1;32mIn[125], line 3\u001b[1;36m\u001b[0m\n\u001b[1;33m    print(\" \" * (size-1)+\"*\" * (2*i-1)\u001b[0m\n\u001b[1;37m         ^\u001b[0m\n\u001b[1;31mSyntaxError\u001b[0m\u001b[1;31m:\u001b[0m '(' was never closed\n"
     ]
    }
   ],
   "source": []
  },
  {
   "cell_type": "code",
   "execution_count": null,
   "id": "c2e25413",
   "metadata": {},
   "outputs": [
    {
     "name": "stdout",
     "output_type": "stream",
     "text": [
      "select your candinate key:-,t=tanu \n",
      "            and s=suparnat\n",
      "select your candinate key:-,t=tanu \n",
      "            and s=suparnas\n"
     ]
    }
   ],
   "source": [
    "t=0\n",
    "s=0\n",
    "x =0\n",
    "while x != \"q\":\n",
    "    x=input(\"\"\"select your candinate key:-,t=tanu \n",
    "            and s=suparna\"\"\")\n",
    "    if x ==\"t\":\n",
    "        t=t+1\n",
    "    else:\n",
    "        s=s+1\n",
    "if t>s:\n",
    "    print(\"tanu win the vote and win by \" + str(s-t) + \" vote\")\n",
    "else:\n",
    "    print(\"suparna win the the vote and win by \" + str(t-s) + \"vote\")\n",
    "\n",
    "\n",
    "print(\"tanu : \" + str(m))\n",
    "print(\"suparna : \" + str(v))\n",
    "\n"
   ]
  },
  {
   "cell_type": "code",
   "execution_count": 145,
   "id": "28295f01",
   "metadata": {},
   "outputs": [
    {
     "name": "stdout",
     "output_type": "stream",
     "text": [
      "select your candinate key:-,v=mr.alex \n",
      "            and m=mr.manum\n",
      "select your candinate key:-,v=mr.alex \n",
      "            and m=mr.manut\n",
      "select your candinate key:-,v=mr.alex \n",
      "            and m=mr.manuq\n",
      "Mr Manu win the vote and win by 3 vote\n",
      "Alex : 3\n",
      "Manu : 0\n"
     ]
    }
   ],
   "source": []
  },
  {
   "cell_type": "code",
   "execution_count": null,
   "id": "e8de8dc9",
   "metadata": {},
   "outputs": [],
   "source": []
  },
  {
   "cell_type": "code",
   "execution_count": null,
   "id": "f00625aa",
   "metadata": {},
   "outputs": [],
   "source": []
  },
  {
   "cell_type": "code",
   "execution_count": 2,
   "id": "9fd0dcf2",
   "metadata": {},
   "outputs": [
    {
     "name": "stdout",
     "output_type": "stream",
     "text": [
      "select operation:\n",
      "add=1\n",
      "substraction=2\n",
      "divied=3\n",
      "multiiply=4\n",
      "stop=5\n",
      "Enter choice (1/2/3/4/5): 1\n",
      "Enter first number: 20\n",
      "Enter second number: 50\n",
      "Enter choice (1/2/3/4/5): 5\n",
      "<IPython.core.autocall.ZMQExitAutocall object at 0x000001F6A0723210>\n"
     ]
    }
   ],
   "source": [
    "def add(x,y):\n",
    "    return x+y\n",
    "def ssubstraction(x,y):\n",
    "    return x-y\n",
    "def divied(x,y):\n",
    "    if  y == 0:\n",
    "        return \"quit\"\n",
    "    else:\n",
    "        return x/y\n",
    "def muultiply(x,y):\n",
    "    return x*y\n",
    "print('select operation:')\n",
    "print(\"add=1\")\n",
    "print(\"substraction=2\")\n",
    "print(\"divied=3\")\n",
    "print(\"multiiply=4\")\n",
    "print(\"stop=5\")\n",
    "while True:\n",
    "    choice = input(\"Enter choice (1/2/3/4/5): \")\n",
    "    if choice==\"5\":\n",
    "        print(exit)\n",
    "        break\n",
    "\n",
    "    if choice in ('1', '2', '3', '4'):\n",
    "        num1 = float(input(\"Enter first number: \"))\n",
    "        num2 = float(input(\"Enter second number: \"))\n",
    "\n",
    "        \n",
    "\n",
    "\n"
   ]
  },
  {
   "cell_type": "code",
   "execution_count": 156,
   "id": "c6b29754",
   "metadata": {},
   "outputs": [
    {
     "ename": "SyntaxError",
     "evalue": "unmatched ')' (687023194.py, line 1)",
     "output_type": "error",
     "traceback": [
      "\u001b[1;36m  Cell \u001b[1;32mIn[156], line 1\u001b[1;36m\u001b[0m\n\u001b[1;33m    )\u001b[0m\n\u001b[1;37m    ^\u001b[0m\n\u001b[1;31mSyntaxError\u001b[0m\u001b[1;31m:\u001b[0m unmatched ')'\n"
     ]
    }
   ],
   "source": [
    ")"
   ]
  },
  {
   "cell_type": "code",
   "execution_count": null,
   "id": "19c3d5f2",
   "metadata": {},
   "outputs": [],
   "source": []
  }
 ],
 "metadata": {
  "kernelspec": {
   "display_name": "Python 3 (ipykernel)",
   "language": "python",
   "name": "python3"
  },
  "language_info": {
   "codemirror_mode": {
    "name": "ipython",
    "version": 3
   },
   "file_extension": ".py",
   "mimetype": "text/x-python",
   "name": "python",
   "nbconvert_exporter": "python",
   "pygments_lexer": "ipython3",
   "version": "3.11.5"
  }
 },
 "nbformat": 4,
 "nbformat_minor": 5
}
