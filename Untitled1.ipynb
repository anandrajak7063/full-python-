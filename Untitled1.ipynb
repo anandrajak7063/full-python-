{
 "cells": [
  {
   "cell_type": "code",
   "execution_count": 18,
   "id": "79b3153c",
   "metadata": {
    "scrolled": true
   },
   "outputs": [
    {
     "name": "stdout",
     "output_type": "stream",
     "text": [
      "celcius\n",
      "put the celcius : 2\n",
      "celcius :  35.6\n"
     ]
    }
   ],
   "source": [
    "print(\"celcius\")\n",
    "c=float(input(\"put the celcius : \"))\n",
    "f=((9*c)/5)+32\n",
    "print(\"celcius : \",f)\n"
   ]
  },
  {
   "cell_type": "code",
   "execution_count": 24,
   "id": "614f4a43",
   "metadata": {},
   "outputs": [
    {
     "name": "stdout",
     "output_type": "stream",
     "text": [
      "feranite\n",
      "put the feranite : 2\n",
      "feranite :  -7.777777777777777\n"
     ]
    }
   ],
   "source": [
    "print(\"feranite\")\n",
    "f=float(input(\"put the feranite : \"))\n",
    "c=5 * (f-(32/9))\n",
    "print(\"feranite : \", c)"
   ]
  },
  {
   "cell_type": "code",
   "execution_count": 49,
   "id": "744a1fa9",
   "metadata": {},
   "outputs": [
    {
     "name": "stdout",
     "output_type": "stream",
     "text": [
      "select your choicex\n"
     ]
    },
    {
     "ename": "KeyboardInterrupt",
     "evalue": "",
     "output_type": "error",
     "traceback": [
      "\u001b[1;31m---------------------------------------------------------------------------\u001b[0m",
      "\u001b[1;31mKeyboardInterrupt\u001b[0m                         Traceback (most recent call last)",
      "Cell \u001b[1;32mIn[49], line 4\u001b[0m\n\u001b[0;32m      2\u001b[0m y\u001b[38;5;241m=\u001b[39m(\u001b[38;5;124m\"\u001b[39m\u001b[38;5;124mf to c\u001b[39m\u001b[38;5;124m\"\u001b[39m)\n\u001b[0;32m      3\u001b[0m z\u001b[38;5;241m=\u001b[39m\u001b[38;5;28minput\u001b[39m(\u001b[38;5;124m\"\u001b[39m\u001b[38;5;124mselect your choice\u001b[39m\u001b[38;5;124m\"\u001b[39m)\n\u001b[1;32m----> 4\u001b[0m \u001b[38;5;28;01mwhile\u001b[39;00m \u001b[38;5;28;01mTrue\u001b[39;00m :\n\u001b[0;32m      5\u001b[0m     \u001b[38;5;28;01mif\u001b[39;00m z \u001b[38;5;241m==\u001b[39m x :\n\u001b[0;32m      6\u001b[0m         x\u001b[38;5;241m=\u001b[39m\u001b[38;5;28mfloat\u001b[39m(\u001b[38;5;28minput\u001b[39m(\u001b[38;5;124m\"\u001b[39m\u001b[38;5;124mput the celcius : \u001b[39m\u001b[38;5;124m\"\u001b[39m))\n",
      "\u001b[1;31mKeyboardInterrupt\u001b[0m: "
     ]
    }
   ],
   "source": [
    "x=(\"c to f\")\n",
    "y=(\"f to c\")\n",
    "z=input(\"select your choice\")\n",
    "while True :\n",
    "    if z == x :\n",
    "        x=float(input(\"put the celcius : \"))\n",
    "        f=print(\"feranite : \", c)\n",
    "        print(\"celcius : \",f)\n",
    "    elif  z == y:\n",
    "        y=float(input(\"put the feranite : \"))\n",
    "        c=5 * (f-(32/9))\n",
    "        print(\"feranite : \", c)\n",
    "    \n",
    "    \n",
    "    \n",
    "\n",
    "\n",
    "    \n",
    "    \n",
    "\n",
    "    \n",
    "\n",
    "\n"
   ]
  },
  {
   "cell_type": "code",
   "execution_count": 51,
   "id": "b3abcf4b",
   "metadata": {},
   "outputs": [
    {
     "name": "stdout",
     "output_type": "stream",
     "text": [
      "select your option\n",
      "1 for c_to_f\n",
      "2 for f_to_c\n",
      "3 for exit\n",
      "enter choice 1,2,31\n",
      "celcius2\n",
      "35.6\n",
      "select your option\n",
      "1 for c_to_f\n",
      "2 for f_to_c\n",
      "3 for exit\n",
      "enter choice 1,2,33\n",
      "<IPython.core.autocall.ZMQExitAutocall object at 0x000001B410D33AD0>\n"
     ]
    }
   ],
   "source": [
    "def c_to_f(c):\n",
    "    return ((9*c)/5)+32\n",
    "def f_to_c(f):\n",
    "    return 5 * (f-(32/9))\n",
    "while True :\n",
    "    print(\"select your option\")\n",
    "    print(\"1 for c_to_f\")\n",
    "    print(\"2 for f_to_c\")\n",
    "    print(\"3 for exit\")\n",
    "    choice = input(\"enter choice 1,2,3\")\n",
    "    if choice == \"3\" :\n",
    "        print(exit)\n",
    "        break\n",
    "    elif choice ==\"1\":\n",
    "        celcius=float(input(\"celcius\"))\n",
    "        result = c_to_f(celcius)\n",
    "        print(result)\n",
    "    elif choice ==\"2\" :\n",
    "        fernite=float(input(\"fernite\"))\n",
    "        result = f_to_c(fernite)\n",
    "        print(result)"
   ]
  },
  {
   "cell_type": "code",
   "execution_count": null,
   "id": "74d96d8e",
   "metadata": {},
   "outputs": [],
   "source": []
  }
 ],
 "metadata": {
  "kernelspec": {
   "display_name": "Python 3 (ipykernel)",
   "language": "python",
   "name": "python3"
  },
  "language_info": {
   "codemirror_mode": {
    "name": "ipython",
    "version": 3
   },
   "file_extension": ".py",
   "mimetype": "text/x-python",
   "name": "python",
   "nbconvert_exporter": "python",
   "pygments_lexer": "ipython3",
   "version": "3.11.5"
  }
 },
 "nbformat": 4,
 "nbformat_minor": 5
}
