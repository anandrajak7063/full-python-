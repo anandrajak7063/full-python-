{
 "cells": [
  {
   "cell_type": "code",
   "execution_count": 20,
   "id": "89f4c464",
   "metadata": {},
   "outputs": [
    {
     "name": "stdout",
     "output_type": "stream",
     "text": [
      "the second largest number is :15\n"
     ]
    }
   ],
   "source": [
    "def second_largest(numbers):\n",
    "    if len(numbers)<2:\n",
    "        return none\n",
    "    largest=float('-inf')\n",
    "    second_largest=float('-inf')\n",
    "    for num in numbers:\n",
    "        if num>largest:\n",
    "            largest=num\n",
    "        elif num>second_largest and num!=largest:\n",
    "                second_largest=num\n",
    "    if second_largest==float('-inf'):\n",
    "                    return none\n",
    "    else:\n",
    "        return second_largest\n",
    "    \n",
    "    \n",
    "    \n",
    "numbers=[10,5,7,20,15]\n",
    "second_largest = second_largest(numbers)\n",
    "if  second_largest is None :\n",
    "    print(\"there is no second largest number:{second_largest}\")\n",
    "else:\n",
    "    print(f\"the second largest number is :{second_largest}\")\n"
   ]
  },
  {
   "cell_type": "code",
   "execution_count": 21,
   "id": "2b92124c",
   "metadata": {},
   "outputs": [],
   "source": [
    "def remove_duplicates(lst):\n",
    "    return list(set(lst))"
   ]
  },
  {
   "cell_type": "code",
   "execution_count": 30,
   "id": "517a2119",
   "metadata": {},
   "outputs": [
    {
     "name": "stdout",
     "output_type": "stream",
     "text": [
      "list with dduolicates removed:[1, 2, 11, 5]\n"
     ]
    }
   ],
   "source": [
    "number=[11,5,2,2,1,11]\n",
    "unique_number=remove_duplicates(number)\n",
    "print(f\"list with dduolicates removed:{unique_number}\")"
   ]
  },
  {
   "cell_type": "code",
   "execution_count": null,
   "id": "45576ea4",
   "metadata": {},
   "outputs": [],
   "source": []
  },
  {
   "cell_type": "code",
   "execution_count": null,
   "id": "f81f9c4c",
   "metadata": {},
   "outputs": [],
   "source": []
  }
 ],
 "metadata": {
  "kernelspec": {
   "display_name": "Python 3 (ipykernel)",
   "language": "python",
   "name": "python3"
  },
  "language_info": {
   "codemirror_mode": {
    "name": "ipython",
    "version": 3
   },
   "file_extension": ".py",
   "mimetype": "text/x-python",
   "name": "python",
   "nbconvert_exporter": "python",
   "pygments_lexer": "ipython3",
   "version": "3.11.5"
  }
 },
 "nbformat": 4,
 "nbformat_minor": 5
}
