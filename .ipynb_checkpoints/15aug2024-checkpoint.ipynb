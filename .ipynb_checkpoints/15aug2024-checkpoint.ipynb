{
 "cells": [
  {
   "cell_type": "code",
   "execution_count": 6,
   "id": "a341a4fe",
   "metadata": {},
   "outputs": [
    {
     "name": "stdout",
     "output_type": "stream",
     "text": [
      "poem :-\n",
      "     * Twinkle, twinkle, little star,\n",
      "       * How I wonder what you are!\n",
      "         * up above the world so high,\n",
      "           * Like a diamond in the sky.\n",
      "             * Twinkle, twinkle, little star,\n",
      "               * How I wonder what you are!\n"
     ]
    }
   ],
   "source": [
    "print(\"poem :-\")\n",
    "print(\"     * Twinkle, twinkle, little star,\")\n",
    "print(\"       * How I wonder what you are!\")\n",
    "print(\"         * up above the world so high,\")\n",
    "print(\"           * Like a diamond in the sky.\")\n",
    "print(\"             * Twinkle, twinkle, little star,\")\n",
    "print(\"               * How I wonder what you are!\")\n",
    "\n"
   ]
  },
  {
   "cell_type": "code",
   "execution_count": 39,
   "id": "663a6365",
   "metadata": {},
   "outputs": [
    {
     "ename": "SyntaxError",
     "evalue": "invalid syntax (3898198306.py, line 4)",
     "output_type": "error",
     "traceback": [
      "\u001b[1;36m  Cell \u001b[1;32mIn[39], line 4\u001b[1;36m\u001b[0m\n\u001b[1;33m    z=(x+y):\u001b[0m\n\u001b[1;37m           ^\u001b[0m\n\u001b[1;31mSyntaxError\u001b[0m\u001b[1;31m:\u001b[0m invalid syntax\n"
     ]
    }
   ],
   "source": [
    "def addnumber(x,y):\n",
    "    x=float(input(\"enter your first number:-\"))\n",
    "    y=float(input(\"second your second number:-\"))\n",
    "    z=(x+y)\n",
    "        print(\"z\")\n",
    "\n"
   ]
  },
  {
   "cell_type": "code",
   "execution_count": 40,
   "id": "5516dd42",
   "metadata": {},
   "outputs": [
    {
     "name": "stdout",
     "output_type": "stream",
     "text": [
      "enter 2 number\n",
      "2\n",
      "4\n",
      "sum is 6\n"
     ]
    }
   ],
   "source": [
    "def sum(a,b):\n",
    "    s=a+b\n",
    "    print(\"sum is\",s)\n",
    "print(\"enter 2 number\")\n",
    "a=int(input())\n",
    "b=int(input())\n",
    "sum(a,b)\n"
   ]
  },
  {
   "cell_type": "code",
   "execution_count": 43,
   "id": "7db049c8",
   "metadata": {},
   "outputs": [
    {
     "name": "stdout",
     "output_type": "stream",
     "text": [
      " area of circle\n",
      "put the area of circle : 25\n",
      "area  of circle :  157.14285714285714\n"
     ]
    }
   ],
   "source": [
    "print(\" area of circle\")\n",
    "pi=22/7\n",
    "r=float(input(\"put the area of circle : \"))\n",
    "per=pi*r*2\n",
    "print(\"area  of circle : \",per)"
   ]
  },
  {
   "cell_type": "code",
   "execution_count": 48,
   "id": "8fcb836f",
   "metadata": {},
   "outputs": [
    {
     "name": "stdout",
     "output_type": "stream",
     "text": [
      "Enter the first number: 50\n",
      "Enter the second number: 40\n",
      "average num1 and num2 ;-\n"
     ]
    }
   ],
   "source": [
    "num1 = float(input(\"Enter the first number: \"))\n",
    "num2 = float(input(\"Enter the second number: \"))\n",
    "average = (num1 + num2) / 2\n",
    "print( \"\"\"average num1 and num2 ;-\"\"\")\n"
   ]
  },
  {
   "cell_type": "code",
   "execution_count": 51,
   "id": "67b0ee08",
   "metadata": {},
   "outputs": [
    {
     "name": "stdout",
     "output_type": "stream",
     "text": [
      "twiTwinkle, twinkle, little star\n",
      "* How I wonder what you are!\n",
      "* up above the world so high\n",
      "* Like a diamond in the sky\n",
      "* Twinkle, twinkle, little star\n",
      "* How I wonder what you are\n"
     ]
    }
   ],
   "source": [
    "print(\"\"\"twiTwinkle, twinkle, little star\n",
    "* How I wonder what you are!\n",
    "* up above the world so high\n",
    "* Like a diamond in the sky\n",
    "* Twinkle, twinkle, little star\n",
    "* How I wonder what you are\"\"\")"
   ]
  },
  {
   "cell_type": "code",
   "execution_count": 50,
   "id": "c1599aaa",
   "metadata": {},
   "outputs": [
    {
     "name": "stdout",
     "output_type": "stream",
     "text": [
      "Enter the number: 20\n",
      "Enter the divisor: 20\n",
      "The remainder when 20 is divided by 20 is 0\n"
     ]
    }
   ],
   "source": [
    "def find_remainder(number, divisor):\n",
    "    remainder = number % divisor\n",
    "    return remainder\n",
    "\n",
    "if __name__ == \"__main__\":\n",
    "    num = int(input(\"Enter the number: \"))\n",
    "    divisor = int(input(\"Enter the divisor: \"))\n",
    "    \n",
    "    result = find_remainder(num, divisor)\n",
    "    print(\"The remainder when\", num, \"is divided by\", divisor, \"is\", result)\n"
   ]
  }
 ],
 "metadata": {
  "kernelspec": {
   "display_name": "Python 3 (ipykernel)",
   "language": "python",
   "name": "python3"
  },
  "language_info": {
   "codemirror_mode": {
    "name": "ipython",
    "version": 3
   },
   "file_extension": ".py",
   "mimetype": "text/x-python",
   "name": "python",
   "nbconvert_exporter": "python",
   "pygments_lexer": "ipython3",
   "version": "3.11.5"
  }
 },
 "nbformat": 4,
 "nbformat_minor": 5
}
