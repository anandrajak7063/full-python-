{
 "cells": [
  {
   "cell_type": "code",
   "execution_count": 3,
   "id": "77ec2695",
   "metadata": {},
   "outputs": [
    {
     "name": "stdout",
     "output_type": "stream",
     "text": [
      "perimeter of circle\n",
      "put the radius of circle : 22\n",
      "perimeteer  of circle :  138.28571428571428\n"
     ]
    }
   ],
   "source": [
    "print(\"perimeter of circle\")\n",
    "pi=22/7\n",
    "r=float(input(\"put the radius of circle : \"))\n",
    "per=2*pi*r\n",
    "print(\"perimeteer  of circle : \",per)\n",
    "\n"
   ]
  },
  {
   "cell_type": "code",
   "execution_count": 4,
   "id": "abb562e5",
   "metadata": {},
   "outputs": [
    {
     "data": {
      "text/plain": [
       "'fooGEE'"
      ]
     },
     "execution_count": 4,
     "metadata": {},
     "output_type": "execute_result"
    }
   ],
   "source": [
    "s=\"foo\"\n",
    "t=\"GEE\"\n",
    "u=\"tee\"\n",
    "s+t\n"
   ]
  },
  {
   "cell_type": "code",
   "execution_count": 5,
   "id": "a1c48d0b",
   "metadata": {},
   "outputs": [
    {
     "data": {
      "text/plain": [
       "'fooGEEtee'"
      ]
     },
     "execution_count": 5,
     "metadata": {},
     "output_type": "execute_result"
    }
   ],
   "source": [
    "s+t+u"
   ]
  },
  {
   "cell_type": "code",
   "execution_count": 7,
   "id": "3141dc86",
   "metadata": {},
   "outputs": [
    {
     "name": "stdout",
     "output_type": "stream",
     "text": [
      "go team !!!\n"
     ]
    }
   ],
   "source": [
    "print(\"go team \" + \"!!!\")"
   ]
  },
  {
   "cell_type": "code",
   "execution_count": 8,
   "id": "86b8cc48",
   "metadata": {},
   "outputs": [
    {
     "data": {
      "text/plain": [
       "'youyouyouyou'"
      ]
     },
     "execution_count": 8,
     "metadata": {},
     "output_type": "execute_result"
    }
   ],
   "source": [
    "s=\"you\"\n",
    "s*4"
   ]
  },
  {
   "cell_type": "code",
   "execution_count": 9,
   "id": "c8db4c17",
   "metadata": {},
   "outputs": [
    {
     "data": {
      "text/plain": [
       "'youyouyouyou'"
      ]
     },
     "execution_count": 9,
     "metadata": {},
     "output_type": "execute_result"
    }
   ],
   "source": [
    "4*s"
   ]
  },
  {
   "cell_type": "code",
   "execution_count": 11,
   "id": "159326c1",
   "metadata": {},
   "outputs": [
    {
     "data": {
      "text/plain": [
       "True"
      ]
     },
     "execution_count": 11,
     "metadata": {},
     "output_type": "execute_result"
    }
   ],
   "source": [
    "s= \"foo\"\n",
    "s in \"that\\\"s foor for thought.\""
   ]
  },
  {
   "cell_type": "code",
   "execution_count": 12,
   "id": "8cdbc4cc",
   "metadata": {},
   "outputs": [
    {
     "data": {
      "text/plain": [
       "False"
      ]
     },
     "execution_count": 12,
     "metadata": {},
     "output_type": "execute_result"
    }
   ],
   "source": [
    "s in\"that \\ s good for now.\""
   ]
  },
  {
   "cell_type": "code",
   "execution_count": 13,
   "id": "4f24a5f1",
   "metadata": {},
   "outputs": [
    {
     "data": {
      "text/plain": [
       "103"
      ]
     },
     "execution_count": 13,
     "metadata": {},
     "output_type": "execute_result"
    }
   ],
   "source": [
    "ord(\"g\")"
   ]
  },
  {
   "cell_type": "code",
   "execution_count": 14,
   "id": "3417df8d",
   "metadata": {},
   "outputs": [
    {
     "data": {
      "text/plain": [
       "'g'"
      ]
     },
     "execution_count": 14,
     "metadata": {},
     "output_type": "execute_result"
    }
   ],
   "source": [
    "chr(103)"
   ]
  },
  {
   "cell_type": "code",
   "execution_count": 37,
   "id": "70e266fd",
   "metadata": {},
   "outputs": [],
   "source": [
    "s=\"aNand rajak\""
   ]
  },
  {
   "cell_type": "code",
   "execution_count": 17,
   "id": "0cba216d",
   "metadata": {},
   "outputs": [
    {
     "data": {
      "text/plain": [
       "5"
      ]
     },
     "execution_count": 17,
     "metadata": {},
     "output_type": "execute_result"
    }
   ],
   "source": [
    "len(s)"
   ]
  },
  {
   "cell_type": "code",
   "execution_count": 22,
   "id": "608e48b8",
   "metadata": {},
   "outputs": [
    {
     "name": "stdout",
     "output_type": "stream",
     "text": [
      " you have done good job \n"
     ]
    }
   ],
   "source": [
    "s1=\" you\"\n",
    "s2=\"have\"\n",
    "s3=\"done\"\n",
    "s4=\"good job\"\n",
    "print( s1 +\" \" + s2 +\" \"+ s3 +\" \"+ s4 +\" \")"
   ]
  },
  {
   "cell_type": "code",
   "execution_count": 31,
   "id": "f0edba3b",
   "metadata": {},
   "outputs": [
    {
     "name": "stdout",
     "output_type": "stream",
     "text": [
      "only first letter in capital : \n",
      "anand\n"
     ]
    }
   ],
   "source": [
    "print(\"only first letter in capital : \")\n",
    "print(s.lower())"
   ]
  },
  {
   "cell_type": "code",
   "execution_count": 32,
   "id": "3a321db6",
   "metadata": {},
   "outputs": [
    {
     "name": "stdout",
     "output_type": "stream",
     "text": [
      "only first letter in capital : \n",
      "ANAND\n"
     ]
    }
   ],
   "source": [
    "print(\"only first letter in capital : \")\n",
    "print(s.upper())"
   ]
  },
  {
   "cell_type": "code",
   "execution_count": 38,
   "id": "3cd91a8a",
   "metadata": {},
   "outputs": [
    {
     "name": "stdout",
     "output_type": "stream",
     "text": [
      "convert first letter of each word into capital : \n",
      "Anand Rajak\n"
     ]
    }
   ],
   "source": [
    "print(\"convert first letter of each word into capital : \")\n",
    "print(s.title())"
   ]
  },
  {
   "cell_type": "code",
   "execution_count": 39,
   "id": "5bc3c303",
   "metadata": {},
   "outputs": [
    {
     "name": "stdout",
     "output_type": "stream",
     "text": [
      "only first letter in capital:\n",
      "Anand rajak\n"
     ]
    }
   ],
   "source": [
    "print(\"only first letter in capital:\")\n",
    "print(s.capitalize())"
   ]
  },
  {
   "cell_type": "code",
   "execution_count": 40,
   "id": "bb7a2952",
   "metadata": {},
   "outputs": [
    {
     "name": "stdout",
     "output_type": "stream",
     "text": [
      "printing the string : \n",
      "we are here to learn python frow IPCS\n"
     ]
    }
   ],
   "source": [
    "s=\"we are here to learn python frow IPCS\"\n",
    "print(\"printing the string : \")\n",
    "print(s)"
   ]
  },
  {
   "cell_type": "code",
   "execution_count": 49,
   "id": "32c4ed87",
   "metadata": {},
   "outputs": [
    {
     "name": "stdout",
     "output_type": "stream",
     "text": [
      "replacing python to string\n",
      "we are here to learn string frow IPCS\n"
     ]
    }
   ],
   "source": [
    "print(\"replacing python to string\")\n",
    "print(s.replace(\"python\",\"string\"))\n"
   ]
  },
  {
   "cell_type": "code",
   "execution_count": 45,
   "id": "002f33f3",
   "metadata": {},
   "outputs": [
    {
     "name": "stdout",
     "output_type": "stream",
     "text": [
      "counting the characters\n",
      "0\n"
     ]
    }
   ],
   "source": [
    "print(\"counting the characters\")\n",
    "print(s.count(\"s\"))"
   ]
  },
  {
   "cell_type": "code",
   "execution_count": 50,
   "id": "ca8a37b8",
   "metadata": {},
   "outputs": [
    {
     "name": "stdout",
     "output_type": "stream",
     "text": [
      "printing the string.\n",
      "we are here to learn python from IPCS\n"
     ]
    }
   ],
   "source": [
    "s=\"we are here to learn python from IPCS\"\n",
    "print(\"printing the string.\")\n",
    "print(s)"
   ]
  },
  {
   "cell_type": "code",
   "execution_count": 52,
   "id": "5095ef96",
   "metadata": {},
   "outputs": [
    {
     "name": "stdout",
     "output_type": "stream",
     "text": [
      "ending with\n",
      "False\n"
     ]
    }
   ],
   "source": [
    "print(\"ending with\")\n",
    "print(s.endswith(\"s\"))"
   ]
  },
  {
   "cell_type": "code",
   "execution_count": 54,
   "id": "28a82ad3",
   "metadata": {},
   "outputs": [
    {
     "name": "stdout",
     "output_type": "stream",
     "text": [
      "starts with\n",
      "True\n"
     ]
    }
   ],
   "source": [
    "print(\"starts with\")\n",
    "print(s.startswith(\"w\"))"
   ]
  },
  {
   "cell_type": "code",
   "execution_count": 56,
   "id": "542de97a",
   "metadata": {},
   "outputs": [
    {
     "name": "stdout",
     "output_type": "stream",
     "text": [
      "WE ARE HERE TO LEARN PYTHON FROM IPCS\n"
     ]
    }
   ],
   "source": [
    "S=\"this is a close  on python \"\n",
    "print(s.upper())"
   ]
  },
  {
   "cell_type": "code",
   "execution_count": 58,
   "id": "94b0138a",
   "metadata": {},
   "outputs": [
    {
     "name": "stdout",
     "output_type": "stream",
     "text": [
      "this is aclass on python\n"
     ]
    }
   ],
   "source": [
    "s=\"this is aclass on python\"\n",
    "print(s.lower())"
   ]
  },
  {
   "cell_type": "code",
   "execution_count": 60,
   "id": "c5fe5645",
   "metadata": {},
   "outputs": [
    {
     "name": "stdout",
     "output_type": "stream",
     "text": [
      "This Is  A Class One Python\n"
     ]
    }
   ],
   "source": [
    "s=\"this is  a class one python\"\n",
    "print(s.title())"
   ]
  },
  {
   "cell_type": "code",
   "execution_count": 62,
   "id": "5b20efb2",
   "metadata": {},
   "outputs": [
    {
     "name": "stdout",
     "output_type": "stream",
     "text": [
      "this is a class on anand\n"
     ]
    }
   ],
   "source": [
    "s=\"this is a class on python\"\n",
    "print(s.replace(\"python\",'anand'))"
   ]
  },
  {
   "cell_type": "code",
   "execution_count": 65,
   "id": "eff8eca4",
   "metadata": {},
   "outputs": [
    {
     "name": "stdout",
     "output_type": "stream",
     "text": [
      "4\n"
     ]
    }
   ],
   "source": [
    "s=\"this is a class on python\"\n",
    "print(s.count (\"s\"))"
   ]
  },
  {
   "cell_type": "code",
   "execution_count": null,
   "id": "0fc30f16",
   "metadata": {},
   "outputs": [],
   "source": []
  }
 ],
 "metadata": {
  "kernelspec": {
   "display_name": "Python 3 (ipykernel)",
   "language": "python",
   "name": "python3"
  },
  "language_info": {
   "codemirror_mode": {
    "name": "ipython",
    "version": 3
   },
   "file_extension": ".py",
   "mimetype": "text/x-python",
   "name": "python",
   "nbconvert_exporter": "python",
   "pygments_lexer": "ipython3",
   "version": "3.11.5"
  }
 },
 "nbformat": 4,
 "nbformat_minor": 5
}
