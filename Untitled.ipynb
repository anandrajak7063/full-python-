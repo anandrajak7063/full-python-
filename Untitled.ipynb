{
 "cells": [
  {
   "cell_type": "code",
   "execution_count": 1,
   "id": "9f0e4c8d",
   "metadata": {},
   "outputs": [
    {
     "name": "stdout",
     "output_type": "stream",
     "text": [
      "what is your nameanand rajak\n",
      "what is your age24\n",
      "what is  your phone number7065\n",
      "thankyou555\n",
      "anand rajak 24 7065 555\n"
     ]
    }
   ],
   "source": [
    "x=input(\"what is your name\")\n",
    "y=input(\"what is your age\")\n",
    "z=input(\"what is  your phone number\")\n",
    "a=input(\"thankyou\")\n",
    "print(x,y,z,a)"
   ]
  },
  {
   "cell_type": "code",
   "execution_count": null,
   "id": "edde3753",
   "metadata": {},
   "outputs": [],
   "source": []
  }
 ],
 "metadata": {
  "kernelspec": {
   "display_name": "Python 3 (ipykernel)",
   "language": "python",
   "name": "python3"
  },
  "language_info": {
   "codemirror_mode": {
    "name": "ipython",
    "version": 3
   },
   "file_extension": ".py",
   "mimetype": "text/x-python",
   "name": "python",
   "nbconvert_exporter": "python",
   "pygments_lexer": "ipython3",
   "version": "3.11.5"
  }
 },
 "nbformat": 4,
 "nbformat_minor": 5
}
