{
 "cells": [
  {
   "cell_type": "code",
   "execution_count": 21,
   "id": "86a6b354",
   "metadata": {},
   "outputs": [
    {
     "name": "stdout",
     "output_type": "stream",
     "text": [
      "select oprater\n",
      "1 add\n",
      "2 minus\n",
      "3 multiplication\n",
      "4 divied\n",
      "5 exit\n",
      "enter choice 1/2/3/4/5 :-  1\n",
      "input your first no :- 25\n",
      "input yor second no :- 20\n",
      " 25.0 + 20.0 = 45.0 \n",
      "select oprater\n",
      "1 add\n",
      "2 minus\n",
      "3 multiplication\n",
      "4 divied\n",
      "5 exit\n",
      "enter choice 1/2/3/4/5 :-  2\n",
      "input your first no :- 25\n",
      "input yor second no :- 20\n",
      " 25.0 - 20.0 = 5.0 \n",
      "select oprater\n",
      "1 add\n",
      "2 minus\n",
      "3 multiplication\n",
      "4 divied\n",
      "5 exit\n",
      "enter choice 1/2/3/4/5 :-  5\n",
      "exit\n"
     ]
    }
   ],
   "source": [
    "def add(x,y):\n",
    "    return x+y\n",
    "def minus(x,y):\n",
    "    return x-y\n",
    "def multiply(x,y):\n",
    "    return x*y\n",
    "def divied(x,y):\n",
    "    if y!=0:\n",
    "        return x/y\n",
    "    else :\n",
    "        return 'cannot be divied by zero !'\n",
    "        print(\"simple clculator\")\n",
    "while True:\n",
    "        print(\"select oprater\")\n",
    "        print(\"1 add\")\n",
    "        print(\"2 minus\")\n",
    "        print(\"3 multiplication\")\n",
    "        print(\"4 divied\")\n",
    "        print(\"5 exit\")\n",
    "        choice=input(\"enter choice 1/2/3/4/5 :- \")\n",
    "        if choice == \"5\":\n",
    "            print(\"exit\")\n",
    "            break\n",
    "        num1=float(input(\"input your first no :- \"))\n",
    "        num2=float(input(\"input yor second no :- \"))\n",
    "        if choice =='1':\n",
    "            result=add(num1,num2)\n",
    "            oprator=\"+\"\n",
    "        elif choice =='2':\n",
    "            result=minus(num1,num2)\n",
    "            oprator=\"-\"\n",
    "        elif choice =='3':\n",
    "            result=multiply(num1,num2)\n",
    "            oprator=\"*\"\n",
    "        elif choice =='4':\n",
    "            result=divied(num1,num2)\n",
    "            oprator=\"/\"\n",
    "        else :\n",
    "            print(\"invalid input , please enter valid choice \")\n",
    "            continue\n",
    "        print(f\" {num1} {oprator} {num2} = {result} \")\n",
    "    \n",
    "\n"
   ]
  },
  {
   "cell_type": "code",
   "execution_count": null,
   "id": "8b09e6d9",
   "metadata": {},
   "outputs": [],
   "source": []
  },
  {
   "cell_type": "code",
   "execution_count": null,
   "id": "645a0d53",
   "metadata": {},
   "outputs": [],
   "source": []
  }
 ],
 "metadata": {
  "kernelspec": {
   "display_name": "Python 3 (ipykernel)",
   "language": "python",
   "name": "python3"
  },
  "language_info": {
   "codemirror_mode": {
    "name": "ipython",
    "version": 3
   },
   "file_extension": ".py",
   "mimetype": "text/x-python",
   "name": "python",
   "nbconvert_exporter": "python",
   "pygments_lexer": "ipython3",
   "version": "3.11.5"
  }
 },
 "nbformat": 4,
 "nbformat_minor": 5
}
